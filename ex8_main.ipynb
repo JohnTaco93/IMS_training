{
  "nbformat": 4,
  "nbformat_minor": 0,
  "metadata": {
    "colab": {
      "name": "ex8_main.ipynb",
      "provenance": [],
      "authorship_tag": "ABX9TyNZxb4k5bovPWNKmlBQiNDp",
      "include_colab_link": true
    },
    "kernelspec": {
      "name": "python3",
      "display_name": "Python 3"
    }
  },
  "cells": [
    {
      "cell_type": "markdown",
      "metadata": {
        "id": "view-in-github",
        "colab_type": "text"
      },
      "source": [
        "<a href=\"https://colab.research.google.com/github/JohnTaco93/IMS_training/blob/main/ex8_main.ipynb\" target=\"_parent\"><img src=\"https://colab.research.google.com/assets/colab-badge.svg\" alt=\"Open In Colab\"/></a>"
      ]
    },
    {
      "cell_type": "code",
      "metadata": {
        "colab": {
          "base_uri": "https://localhost:8080/"
        },
        "id": "fTHvknJyEG-M",
        "outputId": "4212c128-e459-4add-e9e5-a9910e47659b"
      },
      "source": [
        "#%% Change to the root directory\n",
        "# Example:\n",
        "#os.chdir(\"C:/Users/Desktop/LAMDATA\")\n",
        "from google.colab import drive\n",
        "drive.mount('/content/gdrive')"
      ],
      "execution_count": 1,
      "outputs": [
        {
          "output_type": "stream",
          "text": [
            "Mounted at /content/gdrive\n"
          ],
          "name": "stdout"
        }
      ]
    },
    {
      "cell_type": "code",
      "metadata": {
        "colab": {
          "base_uri": "https://localhost:8080/"
        },
        "id": "rrv9-JQAEOw9",
        "outputId": "6023d5e4-e3d9-4b88-ddec-fcabd9d115fe"
      },
      "source": [
        "cd /content/gdrive/My Drive/colab taco/IMS_training/Exercise8_python_Trainee"
      ],
      "execution_count": 3,
      "outputs": [
        {
          "output_type": "stream",
          "text": [
            "/content/gdrive/My Drive/colab taco/IMS_training/Exercise8_python_Trainee\n"
          ],
          "name": "stdout"
        }
      ]
    },
    {
      "cell_type": "code",
      "metadata": {
        "colab": {
          "base_uri": "https://localhost:8080/"
        },
        "id": "1rXmrnwMEZTi",
        "outputId": "f2825d8c-1745-410b-f0e2-187adfd2c626"
      },
      "source": [
        "ls"
      ],
      "execution_count": 4,
      "outputs": [
        {
          "output_type": "stream",
          "text": [
            "B05_Features.csv  ex8_main.ipynb  Lecture_Non-Linear_RUL_Prediction.pdf\n",
            "B06_Features.csv  ex8_main.py     \u001b[0m\u001b[01;34mReferences\u001b[0m/\n",
            "B07_Features.csv  ex8_readme.pdf\n"
          ],
          "name": "stdout"
        }
      ]
    },
    {
      "cell_type": "code",
      "metadata": {
        "colab": {
          "base_uri": "https://localhost:8080/"
        },
        "id": "fg-QiGceE8qz",
        "outputId": "cd3e7b59-7fda-4b3f-8c1f-f9804f41ac01"
      },
      "source": [
        "'''\n",
        "%% IMS TRAINING Exercise 8: \n",
        "    RUL-prediction using non-linear regression\n",
        "    \n",
        "    \n",
        "% OBJECTIVE\n",
        "% ------------\n",
        "% This exercise will focus on performing remianing useful life (RUL) prediction\n",
        "% based on non-linear regresison. \n",
        "\n",
        "\n",
        "% ABOUT THE DATA\n",
        "% ------------\n",
        "The dataset considered in this exercise is NASA Li-ion battery dataset.\n",
        "\n",
        "Li-ion batteries were run through 3 different operational profiles (charge, discharge and\n",
        "impedance) at 24 degree Celsius. Charging was carried out in a constant current (CC) mode at\n",
        "1.5A until the battery voltage reached 4.2V and then continued in a constant voltage (CV) mode\n",
        "until the charge current dropped to 20mA. Discharge was carried out using a CC 2A, until the\n",
        "battery voltage fell to 2.7V, 2.5V and 2.2V for batteries 5, 6 and 7 respectively.\n",
        "Impedance measurement was carried out through an electrochemical impedance spectroscopy\n",
        "(EIS) frequency sweep from 0.1Hz to 5kHz. The threshold is 70% of the original capacity.\n",
        "\n",
        "To keep the focus on learning to use non-linear regression, features extracted\n",
        " from the discharning operation cycles are provided from 3 batteries: B05, B06, and B07.\n",
        " Labels of the features are also provided.\n",
        "\n",
        "'''\n",
        "\n",
        "\n",
        " \n",
        "#%%\n",
        "# Import necesaary python libraries\n",
        "import os\n",
        "import pandas as pd\n",
        "import numpy as np\n",
        "import matplotlib.pyplot as plt\n",
        "from scipy.optimize import curve_fit\n",
        "from scipy.optimize import differential_evolution\n",
        "import warnings\n",
        "\n",
        "#%% load the data \n",
        "'''\n",
        "Use the read_csv function in the pandas library \n",
        "to import the csv file as a dataframe df.\n",
        "Use 'header = None', if the csv file does not have a header,\n",
        "or 'header = 0', if the first column are column names.\n",
        "\n",
        "Example: \n",
        "    df = pd.read_csv(\"FILENAME\", header=0)\n",
        "'''\n",
        "\n",
        "cwd = os.getcwd()\n",
        "print(\"Current Working Directory is:\", cwd)\n",
        "\n",
        "B05_Features = []\n",
        "B06_Features = []\n",
        "B07_Features = []\n",
        "\n",
        "#% ================= Your Code Here ====================\n",
        "B05_Features=pd.read_csv(\"B05_Features.csv\", header=0)\n",
        "B06_Features=pd.read_csv(\"B06_Features.csv\", header=0)\n",
        "B07_Features=pd.read_csv(\"B07_Features.csv\", header=0)"
      ],
      "execution_count": 6,
      "outputs": [
        {
          "output_type": "stream",
          "text": [
            "Current Working Directory is: /content/gdrive/My Drive/colab taco/IMS_training/Exercise8_python_Trainee\n"
          ],
          "name": "stdout"
        }
      ]
    },
    {
      "cell_type": "code",
      "metadata": {
        "colab": {
          "base_uri": "https://localhost:8080/",
          "height": 216
        },
        "id": "yCidGIBYGVWI",
        "outputId": "f5121a69-af08-406b-fed1-ed8e6acd1eea"
      },
      "source": [
        "B05_Features.head()"
      ],
      "execution_count": 7,
      "outputs": [
        {
          "output_type": "execute_result",
          "data": {
            "text/html": [
              "<div>\n",
              "<style scoped>\n",
              "    .dataframe tbody tr th:only-of-type {\n",
              "        vertical-align: middle;\n",
              "    }\n",
              "\n",
              "    .dataframe tbody tr th {\n",
              "        vertical-align: top;\n",
              "    }\n",
              "\n",
              "    .dataframe thead th {\n",
              "        text-align: right;\n",
              "    }\n",
              "</style>\n",
              "<table border=\"1\" class=\"dataframe\">\n",
              "  <thead>\n",
              "    <tr style=\"text-align: right;\">\n",
              "      <th></th>\n",
              "      <th>Time_Stamp</th>\n",
              "      <th>Capacity</th>\n",
              "      <th>Capacitance</th>\n",
              "      <th>Sample_Number</th>\n",
              "      <th>Ambient_Temperature</th>\n",
              "      <th>Time_Since_Last_Discharge</th>\n",
              "      <th>Capacitance_Drop</th>\n",
              "      <th>Discharging_Time</th>\n",
              "      <th>Max_Temperature</th>\n",
              "      <th>Temperature_P2P</th>\n",
              "      <th>Minimum_Temperature</th>\n",
              "      <th>Temperature_Rate</th>\n",
              "      <th>Min_Voltage</th>\n",
              "      <th>Average_Load</th>\n",
              "    </tr>\n",
              "  </thead>\n",
              "  <tbody>\n",
              "    <tr>\n",
              "      <th>0</th>\n",
              "      <td>733500.642843</td>\n",
              "      <td>1.856487</td>\n",
              "      <td>1.000000</td>\n",
              "      <td>2</td>\n",
              "      <td>24</td>\n",
              "      <td>0.000000</td>\n",
              "      <td>0.000000</td>\n",
              "      <td>3311.234</td>\n",
              "      <td>38.904112</td>\n",
              "      <td>14.515027</td>\n",
              "      <td>24.389085</td>\n",
              "      <td>0.004377</td>\n",
              "      <td>2.612467</td>\n",
              "      <td>2.638011</td>\n",
              "    </tr>\n",
              "    <tr>\n",
              "      <th>1</th>\n",
              "      <td>733500.822088</td>\n",
              "      <td>1.846327</td>\n",
              "      <td>0.994527</td>\n",
              "      <td>4</td>\n",
              "      <td>24</td>\n",
              "      <td>0.179246</td>\n",
              "      <td>0.010160</td>\n",
              "      <td>3293.125</td>\n",
              "      <td>38.934590</td>\n",
              "      <td>14.196458</td>\n",
              "      <td>24.738132</td>\n",
              "      <td>0.004305</td>\n",
              "      <td>2.587209</td>\n",
              "      <td>2.633028</td>\n",
              "    </tr>\n",
              "    <tr>\n",
              "      <th>2</th>\n",
              "      <td>733501.000772</td>\n",
              "      <td>1.835349</td>\n",
              "      <td>0.988614</td>\n",
              "      <td>6</td>\n",
              "      <td>24</td>\n",
              "      <td>0.178684</td>\n",
              "      <td>0.010978</td>\n",
              "      <td>3273.656</td>\n",
              "      <td>38.743649</td>\n",
              "      <td>13.952199</td>\n",
              "      <td>24.791450</td>\n",
              "      <td>0.004255</td>\n",
              "      <td>2.651917</td>\n",
              "      <td>2.632949</td>\n",
              "    </tr>\n",
              "    <tr>\n",
              "      <th>3</th>\n",
              "      <td>733501.178210</td>\n",
              "      <td>1.835263</td>\n",
              "      <td>0.988567</td>\n",
              "      <td>8</td>\n",
              "      <td>24</td>\n",
              "      <td>0.177439</td>\n",
              "      <td>0.000087</td>\n",
              "      <td>3273.969</td>\n",
              "      <td>38.672511</td>\n",
              "      <td>13.974647</td>\n",
              "      <td>24.697864</td>\n",
              "      <td>0.004263</td>\n",
              "      <td>2.592948</td>\n",
              "      <td>2.630705</td>\n",
              "    </tr>\n",
              "    <tr>\n",
              "      <th>4</th>\n",
              "      <td>733501.356547</td>\n",
              "      <td>1.834646</td>\n",
              "      <td>0.988235</td>\n",
              "      <td>10</td>\n",
              "      <td>24</td>\n",
              "      <td>0.178337</td>\n",
              "      <td>0.000617</td>\n",
              "      <td>3272.032</td>\n",
              "      <td>38.558828</td>\n",
              "      <td>13.987204</td>\n",
              "      <td>24.571624</td>\n",
              "      <td>0.004270</td>\n",
              "      <td>2.547420</td>\n",
              "      <td>2.630949</td>\n",
              "    </tr>\n",
              "  </tbody>\n",
              "</table>\n",
              "</div>"
            ],
            "text/plain": [
              "      Time_Stamp  Capacity  ...  Min_Voltage  Average_Load\n",
              "0  733500.642843  1.856487  ...     2.612467      2.638011\n",
              "1  733500.822088  1.846327  ...     2.587209      2.633028\n",
              "2  733501.000772  1.835349  ...     2.651917      2.632949\n",
              "3  733501.178210  1.835263  ...     2.592948      2.630705\n",
              "4  733501.356547  1.834646  ...     2.547420      2.630949\n",
              "\n",
              "[5 rows x 14 columns]"
            ]
          },
          "metadata": {
            "tags": []
          },
          "execution_count": 7
        }
      ]
    },
    {
      "cell_type": "code",
      "metadata": {
        "id": "y9X4SLIQF6DF"
      },
      "source": [
        "#% =====================================================\n",
        "\n",
        "#%% Extract Feature Description\n",
        "'''\n",
        "Extract the desciption of the features, \n",
        "stored as column names in the dataframe, as a list.\n",
        "Example: \n",
        "    lst = df.columns\n",
        "    lst = lst.tolist()\n",
        "'''\n",
        "FeatureLabels = []\n",
        "#% ================= Your Code Here ====================\n",
        "FeatureLabels=B05_Features.columns\n",
        "FeatureLabels = FeatureLabels.tolist()"
      ],
      "execution_count": 9,
      "outputs": []
    },
    {
      "cell_type": "code",
      "metadata": {
        "colab": {
          "base_uri": "https://localhost:8080/",
          "height": 216
        },
        "id": "HBiCHrkxGR85",
        "outputId": "c7856602-ab12-4e86-d791-856f788ecb99"
      },
      "source": [
        "B05_Features.head()"
      ],
      "execution_count": 8,
      "outputs": [
        {
          "output_type": "execute_result",
          "data": {
            "text/html": [
              "<div>\n",
              "<style scoped>\n",
              "    .dataframe tbody tr th:only-of-type {\n",
              "        vertical-align: middle;\n",
              "    }\n",
              "\n",
              "    .dataframe tbody tr th {\n",
              "        vertical-align: top;\n",
              "    }\n",
              "\n",
              "    .dataframe thead th {\n",
              "        text-align: right;\n",
              "    }\n",
              "</style>\n",
              "<table border=\"1\" class=\"dataframe\">\n",
              "  <thead>\n",
              "    <tr style=\"text-align: right;\">\n",
              "      <th></th>\n",
              "      <th>Time_Stamp</th>\n",
              "      <th>Capacity</th>\n",
              "      <th>Capacitance</th>\n",
              "      <th>Sample_Number</th>\n",
              "      <th>Ambient_Temperature</th>\n",
              "      <th>Time_Since_Last_Discharge</th>\n",
              "      <th>Capacitance_Drop</th>\n",
              "      <th>Discharging_Time</th>\n",
              "      <th>Max_Temperature</th>\n",
              "      <th>Temperature_P2P</th>\n",
              "      <th>Minimum_Temperature</th>\n",
              "      <th>Temperature_Rate</th>\n",
              "      <th>Min_Voltage</th>\n",
              "      <th>Average_Load</th>\n",
              "    </tr>\n",
              "  </thead>\n",
              "  <tbody>\n",
              "    <tr>\n",
              "      <th>0</th>\n",
              "      <td>733500.642843</td>\n",
              "      <td>1.856487</td>\n",
              "      <td>1.000000</td>\n",
              "      <td>2</td>\n",
              "      <td>24</td>\n",
              "      <td>0.000000</td>\n",
              "      <td>0.000000</td>\n",
              "      <td>3311.234</td>\n",
              "      <td>38.904112</td>\n",
              "      <td>14.515027</td>\n",
              "      <td>24.389085</td>\n",
              "      <td>0.004377</td>\n",
              "      <td>2.612467</td>\n",
              "      <td>2.638011</td>\n",
              "    </tr>\n",
              "    <tr>\n",
              "      <th>1</th>\n",
              "      <td>733500.822088</td>\n",
              "      <td>1.846327</td>\n",
              "      <td>0.994527</td>\n",
              "      <td>4</td>\n",
              "      <td>24</td>\n",
              "      <td>0.179246</td>\n",
              "      <td>0.010160</td>\n",
              "      <td>3293.125</td>\n",
              "      <td>38.934590</td>\n",
              "      <td>14.196458</td>\n",
              "      <td>24.738132</td>\n",
              "      <td>0.004305</td>\n",
              "      <td>2.587209</td>\n",
              "      <td>2.633028</td>\n",
              "    </tr>\n",
              "    <tr>\n",
              "      <th>2</th>\n",
              "      <td>733501.000772</td>\n",
              "      <td>1.835349</td>\n",
              "      <td>0.988614</td>\n",
              "      <td>6</td>\n",
              "      <td>24</td>\n",
              "      <td>0.178684</td>\n",
              "      <td>0.010978</td>\n",
              "      <td>3273.656</td>\n",
              "      <td>38.743649</td>\n",
              "      <td>13.952199</td>\n",
              "      <td>24.791450</td>\n",
              "      <td>0.004255</td>\n",
              "      <td>2.651917</td>\n",
              "      <td>2.632949</td>\n",
              "    </tr>\n",
              "    <tr>\n",
              "      <th>3</th>\n",
              "      <td>733501.178210</td>\n",
              "      <td>1.835263</td>\n",
              "      <td>0.988567</td>\n",
              "      <td>8</td>\n",
              "      <td>24</td>\n",
              "      <td>0.177439</td>\n",
              "      <td>0.000087</td>\n",
              "      <td>3273.969</td>\n",
              "      <td>38.672511</td>\n",
              "      <td>13.974647</td>\n",
              "      <td>24.697864</td>\n",
              "      <td>0.004263</td>\n",
              "      <td>2.592948</td>\n",
              "      <td>2.630705</td>\n",
              "    </tr>\n",
              "    <tr>\n",
              "      <th>4</th>\n",
              "      <td>733501.356547</td>\n",
              "      <td>1.834646</td>\n",
              "      <td>0.988235</td>\n",
              "      <td>10</td>\n",
              "      <td>24</td>\n",
              "      <td>0.178337</td>\n",
              "      <td>0.000617</td>\n",
              "      <td>3272.032</td>\n",
              "      <td>38.558828</td>\n",
              "      <td>13.987204</td>\n",
              "      <td>24.571624</td>\n",
              "      <td>0.004270</td>\n",
              "      <td>2.547420</td>\n",
              "      <td>2.630949</td>\n",
              "    </tr>\n",
              "  </tbody>\n",
              "</table>\n",
              "</div>"
            ],
            "text/plain": [
              "      Time_Stamp  Capacity  ...  Min_Voltage  Average_Load\n",
              "0  733500.642843  1.856487  ...     2.612467      2.638011\n",
              "1  733500.822088  1.846327  ...     2.587209      2.633028\n",
              "2  733501.000772  1.835349  ...     2.651917      2.632949\n",
              "3  733501.178210  1.835263  ...     2.592948      2.630705\n",
              "4  733501.356547  1.834646  ...     2.547420      2.630949\n",
              "\n",
              "[5 rows x 14 columns]"
            ]
          },
          "metadata": {
            "tags": []
          },
          "execution_count": 8
        }
      ]
    },
    {
      "cell_type": "code",
      "metadata": {
        "colab": {
          "base_uri": "https://localhost:8080/",
          "height": 177
        },
        "id": "tHTvt2MZF7cz",
        "outputId": "a4297bf6-c026-4501-adb3-56285d8926f4"
      },
      "source": [
        "#%% Use codes from homework 01 to visualize loaded features\n",
        "#% ================= Your Code Here ====================\n",
        "plt.subplot(2,1,1)\n",
        "plt.plot(B05_Features['Time_Stamp'],B05_Features['Capacity'])\n",
        "plt.xlabel('Time');\n",
        "plt.ylabel('Capacity');\n",
        "plt.title('Batery 5');\n",
        "\n",
        "#% ====================================================="
      ],
      "execution_count": 13,
      "outputs": [
        {
          "output_type": "display_data",
          "data": {
            "image/png": "[encoded data removed]",
            "text/plain": [
              "<Figure size 432x288 with 1 Axes>"
            ]
          },
          "metadata": {
            "tags": [],
            "needs_background": "light"
          }
        }
      ]
    },
    {
      "cell_type": "code",
      "metadata": {
        "colab": {
          "base_uri": "https://localhost:8080/",
          "height": 177
        },
        "id": "FYniOBGRHLmF",
        "outputId": "94b0b269-2391-45f7-d1aa-ce53f5d6fd93"
      },
      "source": [
        "#%% Use codes from homework 01 to visualize loaded features\n",
        "#% ================= Your Code Here ====================\n",
        "plt.subplot(2,1,1)\n",
        "plt.plot(B06_Features['Time_Stamp'],B06_Features['Capacity'])\n",
        "plt.xlabel('Time');\n",
        "plt.ylabel('Capacity');\n",
        "plt.title('Batery 6');\n",
        "\n",
        "#% ====================================================="
      ],
      "execution_count": 14,
      "outputs": [
        {
          "output_type": "display_data",
          "data": {
            "image/png": "[encoded data removed]",
            "text/plain": [
              "<Figure size 432x288 with 1 Axes>"
            ]
          },
          "metadata": {
            "tags": [],
            "needs_background": "light"
          }
        }
      ]
    },
    {
      "cell_type": "code",
      "metadata": {
        "colab": {
          "base_uri": "https://localhost:8080/",
          "height": 177
        },
        "id": "fFSDabXPHPhG",
        "outputId": "6d3a8f03-1148-4a04-819a-e8f1d1717300"
      },
      "source": [
        "#%% Use codes from homework 01 to visualize loaded features\n",
        "#% ================= Your Code Here ====================\n",
        "plt.subplot(2,1,1)\n",
        "plt.plot(B07_Features['Time_Stamp'],B07_Features['Capacity'])\n",
        "plt.xlabel('Time');\n",
        "plt.ylabel('Capacity');\n",
        "plt.title('Batery 7');\n"
      ],
      "execution_count": 15,
      "outputs": [
        {
          "output_type": "display_data",
          "data": {
            "image/png": "[encoded data removed]",
            "text/plain": [
              "<Figure size 432x288 with 1 Axes>"
            ]
          },
          "metadata": {
            "tags": [],
            "needs_background": "light"
          }
        }
      ]
    },
    {
      "cell_type": "code",
      "metadata": {
        "id": "uIh-7161LgkU"
      },
      "source": [
        "#%% For convenience, let's use features from one battery at a time to perform \n",
        "# RUL prediction based on nonlinear regression. Since battery capacity value \n",
        "# indicates its performance, when the capacity drops to 1.4 Ahr (30% degradation),\n",
        "# the battery can be considered failure.\n",
        "\n",
        "\n",
        "#%% Extract Data for analysis: \n",
        "# Let's focus first on Battery 5. Extract the feature values for Battery 5\n",
        "\n",
        "'''\n",
        "Extract the values of the features as a numpy matrix from the data frame.\n",
        "Remember to use dataframe of Battery 5.\n",
        "Example: \n",
        "    data = df.values\n",
        "'''\n",
        "Features = []\n",
        "BatteryNo = 5\n",
        "#% ================= Your Code Here ====================\n",
        "\n",
        "data = B05_Features.values"
      ],
      "execution_count": 24,
      "outputs": []
    },
    {
      "cell_type": "code",
      "metadata": {
        "colab": {
          "base_uri": "https://localhost:8080/",
          "height": 216
        },
        "id": "gmBYJ0fjMpzU",
        "outputId": "8dc1a62e-11f7-48cd-d7e6-882c17016f63"
      },
      "source": [
        "B05_Features.head()"
      ],
      "execution_count": 25,
      "outputs": [
        {
          "output_type": "execute_result",
          "data": {
            "text/html": [
              "<div>\n",
              "<style scoped>\n",
              "    .dataframe tbody tr th:only-of-type {\n",
              "        vertical-align: middle;\n",
              "    }\n",
              "\n",
              "    .dataframe tbody tr th {\n",
              "        vertical-align: top;\n",
              "    }\n",
              "\n",
              "    .dataframe thead th {\n",
              "        text-align: right;\n",
              "    }\n",
              "</style>\n",
              "<table border=\"1\" class=\"dataframe\">\n",
              "  <thead>\n",
              "    <tr style=\"text-align: right;\">\n",
              "      <th></th>\n",
              "      <th>Time_Stamp</th>\n",
              "      <th>Capacity</th>\n",
              "      <th>Capacitance</th>\n",
              "      <th>Sample_Number</th>\n",
              "      <th>Ambient_Temperature</th>\n",
              "      <th>Time_Since_Last_Discharge</th>\n",
              "      <th>Capacitance_Drop</th>\n",
              "      <th>Discharging_Time</th>\n",
              "      <th>Max_Temperature</th>\n",
              "      <th>Temperature_P2P</th>\n",
              "      <th>Minimum_Temperature</th>\n",
              "      <th>Temperature_Rate</th>\n",
              "      <th>Min_Voltage</th>\n",
              "      <th>Average_Load</th>\n",
              "    </tr>\n",
              "  </thead>\n",
              "  <tbody>\n",
              "    <tr>\n",
              "      <th>0</th>\n",
              "      <td>733500.642843</td>\n",
              "      <td>1.856487</td>\n",
              "      <td>1.000000</td>\n",
              "      <td>2</td>\n",
              "      <td>24</td>\n",
              "      <td>0.000000</td>\n",
              "      <td>0.000000</td>\n",
              "      <td>3311.234</td>\n",
              "      <td>38.904112</td>\n",
              "      <td>14.515027</td>\n",
              "      <td>24.389085</td>\n",
              "      <td>0.004377</td>\n",
              "      <td>2.612467</td>\n",
              "      <td>2.638011</td>\n",
              "    </tr>\n",
              "    <tr>\n",
              "      <th>1</th>\n",
              "      <td>733500.822088</td>\n",
              "      <td>1.846327</td>\n",
              "      <td>0.994527</td>\n",
              "      <td>4</td>\n",
              "      <td>24</td>\n",
              "      <td>0.179246</td>\n",
              "      <td>0.010160</td>\n",
              "      <td>3293.125</td>\n",
              "      <td>38.934590</td>\n",
              "      <td>14.196458</td>\n",
              "      <td>24.738132</td>\n",
              "      <td>0.004305</td>\n",
              "      <td>2.587209</td>\n",
              "      <td>2.633028</td>\n",
              "    </tr>\n",
              "    <tr>\n",
              "      <th>2</th>\n",
              "      <td>733501.000772</td>\n",
              "      <td>1.835349</td>\n",
              "      <td>0.988614</td>\n",
              "      <td>6</td>\n",
              "      <td>24</td>\n",
              "      <td>0.178684</td>\n",
              "      <td>0.010978</td>\n",
              "      <td>3273.656</td>\n",
              "      <td>38.743649</td>\n",
              "      <td>13.952199</td>\n",
              "      <td>24.791450</td>\n",
              "      <td>0.004255</td>\n",
              "      <td>2.651917</td>\n",
              "      <td>2.632949</td>\n",
              "    </tr>\n",
              "    <tr>\n",
              "      <th>3</th>\n",
              "      <td>733501.178210</td>\n",
              "      <td>1.835263</td>\n",
              "      <td>0.988567</td>\n",
              "      <td>8</td>\n",
              "      <td>24</td>\n",
              "      <td>0.177439</td>\n",
              "      <td>0.000087</td>\n",
              "      <td>3273.969</td>\n",
              "      <td>38.672511</td>\n",
              "      <td>13.974647</td>\n",
              "      <td>24.697864</td>\n",
              "      <td>0.004263</td>\n",
              "      <td>2.592948</td>\n",
              "      <td>2.630705</td>\n",
              "    </tr>\n",
              "    <tr>\n",
              "      <th>4</th>\n",
              "      <td>733501.356547</td>\n",
              "      <td>1.834646</td>\n",
              "      <td>0.988235</td>\n",
              "      <td>10</td>\n",
              "      <td>24</td>\n",
              "      <td>0.178337</td>\n",
              "      <td>0.000617</td>\n",
              "      <td>3272.032</td>\n",
              "      <td>38.558828</td>\n",
              "      <td>13.987204</td>\n",
              "      <td>24.571624</td>\n",
              "      <td>0.004270</td>\n",
              "      <td>2.547420</td>\n",
              "      <td>2.630949</td>\n",
              "    </tr>\n",
              "  </tbody>\n",
              "</table>\n",
              "</div>"
            ],
            "text/plain": [
              "      Time_Stamp  Capacity  ...  Min_Voltage  Average_Load\n",
              "0  733500.642843  1.856487  ...     2.612467      2.638011\n",
              "1  733500.822088  1.846327  ...     2.587209      2.633028\n",
              "2  733501.000772  1.835349  ...     2.651917      2.632949\n",
              "3  733501.178210  1.835263  ...     2.592948      2.630705\n",
              "4  733501.356547  1.834646  ...     2.547420      2.630949\n",
              "\n",
              "[5 rows x 14 columns]"
            ]
          },
          "metadata": {
            "tags": []
          },
          "execution_count": 25
        }
      ]
    },
    {
      "cell_type": "code",
      "metadata": {
        "id": "gpZqjyoBMB1L"
      },
      "source": [
        "#% =====================================================\n",
        "\n",
        "# The trainee can later change the battery number (BatteryNo)\n",
        "# to evaluate the performance for other batteries.\n",
        "\n",
        "\n",
        "#%% Scale Battery Capacilty, and use the signal as train_data\n",
        "'''\n",
        "Divide the entire signal by the first value of the signal. This denotes how much\n",
        "the value of the signal has grown over time.\n",
        "\n",
        "In this example, we will use only one of the feature to fit the non-linear regression model.\n",
        "Here we are choosing the battery 'Capacity' as the signal. It is important to identify the \n",
        "signal using the column headers and use the appropriate column index to select the signal.\n",
        "\n",
        "Example: \n",
        "    dataScaled = data[:, 1]/data[0, 1]\n",
        "'''\n",
        "\n",
        "data_train = []\n",
        "#% ================= Your Code Here ====================\n",
        "data_train = data[:, 1]/data[0, 1]"
      ],
      "execution_count": 26,
      "outputs": []
    },
    {
      "cell_type": "code",
      "metadata": {
        "id": "v1IY5RULNVNv"
      },
      "source": [
        "#% =====================================================\n",
        "#%% NON_LINEAR REGRESSION: exponential \n",
        "# Step 0: prepare the index for the data we want to fit. \n",
        "# The y_data in this case is data_train.\n",
        "'''\n",
        "Let the x_data (independent variable) for regression be the index of the y_data (dependent variable).\n",
        "Create a numpy array of the indices.\n",
        "\n",
        "Example:\n",
        "    x_data = np.arange(np.size(y_data))\n",
        "'''\n",
        "\n",
        "t = []\n",
        "#% ================= Your Code Here ====================\n",
        "#data_train=dataScaled.copy()\n",
        "t = np.arange(np.size(data_train))"
      ],
      "execution_count": 35,
      "outputs": []
    },
    {
      "cell_type": "code",
      "metadata": {
        "id": "FVGNxemjEg8c"
      },
      "source": [
        "#% =====================================================\n",
        "#%% Step 1: create a exponential function to fit the data\n",
        "'''\n",
        "Defining the non-linear mathematical function to be used, and creating a \n",
        "python function to use it here.\n",
        "\n",
        "Note: In this case, the exponential function is used and is defined as shown below.\n",
        "'''\n",
        "\n",
        "def func(x, b0, b1, b2, b3):\n",
        "    return  b0*(np.exp(b1*x + b2))+b3"
      ],
      "execution_count": 36,
      "outputs": []
    },
    {
      "cell_type": "code",
      "metadata": {
        "id": "6K1IodsQPjNx"
      },
      "source": [
        "#%% Step 2: choose initial values of the parameters of the non-linear function\n",
        "'''\n",
        "NOTE: Usually the initial values of the parameters are chosen based on experience or\n",
        " the characteristics of data, otherwise, it's recommended to select random values \n",
        " or use methods such as Genetic Algorithm (GA) with bounds to make initial guesses.\n",
        " The followinng code shows an implementation of the intial guesses of the paramters \n",
        " using GA with bounds.\n",
        " \n",
        " Even in this process, the bounds can have an impact on the quality and \n",
        " feasibility of the solution. the trainee is encouraged to explore changing the\n",
        " values of the initial guess and observe the changes in the evaluated solutions.\n",
        "'''\n",
        "    \n",
        "# function for genetic algorithm to minimize (sum of squared error)\n",
        "def sumOfSquaredError(parameterTuple):\n",
        "    \n",
        "    # to avoid printing warnings by genetic algorithm\n",
        "    warnings.filterwarnings(\"ignore\")  \n",
        "    \n",
        "    # evaluate the output of the func using candidate parameters and input (t)        \n",
        "    val = func(t, *parameterTuple) \n",
        "\n",
        "    # calculate error term for evaluated output and actual output (data_train)\n",
        "    return np.sum((data_train - val)**2.0)\n",
        "\n",
        "def generate_Initial_Parameters():\n",
        "    \n",
        "    # min and max used for bounds\n",
        "    maxX = max(t)\n",
        "    minX = min(t)\n",
        "    maxY = max(data_train)\n",
        "    minY = min(data_train)\n",
        "\n",
        "    # calcuate the parameter bounds\n",
        "    parameterBounds = []\n",
        "    parameterBounds.append([minX, maxX]) # search bounds for b1\n",
        "    parameterBounds.append([minX, maxX]) # search bounds for b2\n",
        "    parameterBounds.append([maxX, maxX]) # search bounds for b3\n",
        "    parameterBounds.append([minY, maxY]) # search bounds for b4\n",
        "\n",
        "    # Use the differential_evolution function to calculate the inital guesses of the parameters.\n",
        "    result = differential_evolution(sumOfSquaredError, parameterBounds, seed = 3)\n",
        "    return result.x\n",
        "\n",
        "# generate initial parameter values\n",
        "b_init = generate_Initial_Parameters()\n"
      ],
      "execution_count": 37,
      "outputs": []
    },
    {
      "cell_type": "code",
      "metadata": {
        "id": "izMHVHXeQ6VI"
      },
      "source": [
        "#%% Step 3: fit the nonlinear model to data using the initial values in beta0\n",
        "'''\n",
        "Use the curve_fit function from scipy to fit the data into the defined function\n",
        " using the initial guesses. Detailed description of the function can be found at\n",
        " https://docs.scipy.org/doc/scipy/reference/generated/scipy.optimize.curve_fit.html\n",
        " \n",
        " Example:\n",
        "     param_out, pcov = curve_fit(func, x_data, y_data, param_init)\n",
        "     \n",
        "     where:\n",
        "         param_out: optimal values of the params\n",
        "         pcov: estimated covariance of the parameters to evaluate the confidence limit on the params\n",
        "         func: model function (exponential in this case)\n",
        "         x_data: input data or independent variable\n",
        "         y_data: measured data or dependent variable\n",
        "         param_init: the initial guess for the parameters\n",
        "'''\n",
        "beta_out = []\n",
        "beta_cov = []\n",
        "#% ================= Your Code Here ====================\n",
        "beta_out, beta_cov = curve_fit(func, xdata=t, ydata=data_train, p0=b_init)"
      ],
      "execution_count": 41,
      "outputs": []
    },
    {
      "cell_type": "code",
      "metadata": {
        "colab": {
          "base_uri": "https://localhost:8080/",
          "height": 312
        },
        "id": "efZDnWzTSF0x",
        "outputId": "99f2fdfc-9d02-4b41-a9de-b5213ae32c64"
      },
      "source": [
        "#% =====================================================\n",
        "#% generate the estimated value based on the nonlinear model\n",
        "'''\n",
        "Estimate the value of the function based on the optimized parameters for the same input values.\n",
        "\n",
        "Example:\n",
        "    estimated_value = func(x_data, beta[0], beta[1], beta[2], beta[3])\n",
        "'''\n",
        "\n",
        "estimated_value = []\n",
        "#% ================= Your Code Here ====================\n",
        "estimated_value = func(t, beta_out[0], beta_out[1], beta_out[2], beta_out[3])\n",
        "\n",
        "\n",
        "#% =====================================================\n",
        "\n",
        "# Visualize the fitted curve\n",
        "plt.figure(1)\n",
        "plt.plot(t, data_train, 'b', linewidth=2, label = 'actual value')\n",
        "plt.plot(t, estimated_value, 'r', linewidth=2, label = 'estimated value')\n",
        "plt.xlabel('Discharge Cycle')\n",
        "plt.ylabel('Remaining Capacity %')\n",
        "plt.title('Battery '+str(BatteryNo));\n",
        "plt.legend()"
      ],
      "execution_count": 46,
      "outputs": [
        {
          "output_type": "execute_result",
          "data": {
            "text/plain": [
              "<matplotlib.legend.Legend at 0x7f0c03fdc9b0>"
            ]
          },
          "metadata": {
            "tags": []
          },
          "execution_count": 46
        },
        {
          "output_type": "display_data",
          "data": {
            "image/png": "[encoded data removed]",
            "text/plain": [
              "<Figure size 432x288 with 1 Axes>"
            ]
          },
          "metadata": {
            "tags": [],
            "needs_background": "light"
          }
        }
      ]
    },
    {
      "cell_type": "code",
      "metadata": {
        "id": "W5kyIUt2TLPy"
      },
      "source": [
        "#%% Step 4: perform prediction using the nonlinear model\n",
        "\n",
        "# Select a value of the number of steps ahead to predict\n",
        "# The trainee can try to evaluate the predictions for different steps by changin this value.\n",
        "steps = 55\n",
        "\n",
        "#% determine the index of the prediction\n",
        "'''\n",
        "Similar to input 't', create a indices for which predictions have to be made.\n",
        "For example, the following code shows how to create indices 'steps' point ahead \n",
        "from the last known point of measurement.\n",
        "\n",
        "Example:\n",
        "    x_data_predict = np.linspace(x_data[-1], x_data[-1]+steps, steps+1)\n",
        "\n",
        "'''\n",
        "t_predict = []\n",
        "#% ================= Your Code Here ====================\n",
        "t_predict = np.linspace(t[-1], t[-1]+steps, steps+1)"
      ],
      "execution_count": 47,
      "outputs": []
    },
    {
      "cell_type": "code",
      "metadata": {
        "id": "Jzar_2JPTqBx"
      },
      "source": [
        "#% =====================================================\n",
        "#% generate the prediction value based on the nonlinear model\n",
        "'''\n",
        "Predict the value of the function based on the optimized parameters and idex of prediction.\n",
        "\n",
        "Example:\n",
        "   predicted_value = func(x_data_predict, beta[0], beta[1], beta[2], beta[3])\n",
        "'''\n",
        "predicted_value = []\n",
        "#% ================= Your Code Here ====================\n",
        "predicted_value = func(t_predict, beta_out[0], beta_out[1], beta_out[2], beta_out[3])"
      ],
      "execution_count": 49,
      "outputs": []
    },
    {
      "cell_type": "code",
      "metadata": {
        "colab": {
          "base_uri": "https://localhost:8080/",
          "height": 312
        },
        "id": "FEfQRdeOMMRg",
        "outputId": "9395a361-f7ac-4956-b738-669253f74155"
      },
      "source": [
        "#% =====================================================\n",
        "#%% Step 5: Visualize the prediction\n",
        "plt.figure(2)\n",
        "plt.plot(t, data_train, 'b', linewidth=2, label = 'actual value')\n",
        "plt.plot(t, estimated_value, 'r', linewidth=2, label = 'estimated value')\n",
        "plt.plot(t_predict, predicted_value, 'y', linewidth=2, label = 'predicted value')\n",
        "plt.xlabel('Discharge Cycle')\n",
        "plt.ylabel('Remaining Capacity %')\n",
        "plt.title('Battery '+str(BatteryNo));\n",
        "\n",
        "# Add Actual End of Life for Battery 5.\n",
        "plt.axvline(x=130, linewidth=2, c='k', linestyle='--', label = 'actual EOL (Battery 5)')\n",
        "\n",
        "plt.legend()"
      ],
      "execution_count": 50,
      "outputs": [
        {
          "output_type": "execute_result",
          "data": {
            "text/plain": [
              "<matplotlib.legend.Legend at 0x7f0c03f5b7b8>"
            ]
          },
          "metadata": {
            "tags": []
          },
          "execution_count": 50
        },
        {
          "output_type": "display_data",
          "data": {
            "image/png": "[encoded data removed]",
            "text/plain": [
              "<Figure size 432x288 with 1 Axes>"
            ]
          },
          "metadata": {
            "tags": [],
            "needs_background": "light"
          }
        }
      ]
    },
    {
      "cell_type": "code",
      "metadata": {
        "id": "UIgGukQbQsph"
      },
      "source": [
        ""
      ],
      "execution_count": null,
      "outputs": []
    }
  ]
}