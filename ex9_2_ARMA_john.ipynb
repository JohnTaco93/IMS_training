{
  "nbformat": 4,
  "nbformat_minor": 0,
  "metadata": {
    "colab": {
      "name": "ex9_2_ARMA_john.ipynb",
      "provenance": [],
      "authorship_tag": "ABX9TyNbuqW/hoOAEgEVgd6AfRF7",
      "include_colab_link": true
    },
    "kernelspec": {
      "name": "python3",
      "display_name": "Python 3"
    }
  },
  "cells": [
    {
      "cell_type": "markdown",
      "metadata": {
        "id": "view-in-github",
        "colab_type": "text"
      },
      "source": [
        "<a href=\"https://colab.research.google.com/github/JohnTaco93/IMS_training/blob/main/ex9_2_ARMA_john.ipynb\" target=\"_parent\"><img src=\"https://colab.research.google.com/assets/colab-badge.svg\" alt=\"Open In Colab\"/></a>"
      ]
    },
    {
      "cell_type": "code",
      "metadata": {
        "colab": {
          "base_uri": "https://localhost:8080/"
        },
        "id": "nYSo3XGaW-vN",
        "outputId": "7e6f19b9-8622-41a7-b978-4524207a1e1c"
      },
      "source": [
        "#%% Change to the root directory\n",
        "# Example:\n",
        "#os.chdir(\"C:/Users/Desktop/LAMDATA\")\n",
        "from google.colab import drive\n",
        "drive.mount('/content/gdrive')"
      ],
      "execution_count": 11,
      "outputs": [
        {
          "output_type": "stream",
          "text": [
            "Drive already mounted at /content/gdrive; to attempt to forcibly remount, call drive.mount(\"/content/gdrive\", force_remount=True).\n"
          ],
          "name": "stdout"
        }
      ]
    },
    {
      "cell_type": "code",
      "metadata": {
        "colab": {
          "base_uri": "https://localhost:8080/"
        },
        "id": "6D7w4mjJXMSl",
        "outputId": "49891307-bfeb-4b1c-e429-60780f4b4835"
      },
      "source": [
        "cd /content/gdrive/My Drive/colab taco/IMS_training/Exercise9_python_Trainee"
      ],
      "execution_count": 12,
      "outputs": [
        {
          "output_type": "stream",
          "text": [
            "/content/gdrive/My Drive/colab taco/IMS_training/Exercise9_python_Trainee\n"
          ],
          "name": "stdout"
        }
      ]
    },
    {
      "cell_type": "code",
      "metadata": {
        "colab": {
          "base_uri": "https://localhost:8080/"
        },
        "id": "dyNOIc9LXN7q",
        "outputId": "b0a3869b-3208-49d0-ffde-9b9fa38f29ec"
      },
      "source": [
        "pip install lmfit"
      ],
      "execution_count": 13,
      "outputs": [
        {
          "output_type": "stream",
          "text": [
            "Requirement already satisfied: lmfit in /usr/local/lib/python3.6/dist-packages (1.0.1)\n",
            "Requirement already satisfied: numpy>=1.16 in /usr/local/lib/python3.6/dist-packages (from lmfit) (1.18.5)\n",
            "Requirement already satisfied: asteval>=0.9.16 in /usr/local/lib/python3.6/dist-packages (from lmfit) (0.9.21)\n",
            "Requirement already satisfied: uncertainties>=3.0.1 in /usr/local/lib/python3.6/dist-packages (from lmfit) (3.1.5)\n",
            "Requirement already satisfied: scipy>=1.2 in /usr/local/lib/python3.6/dist-packages (from lmfit) (1.4.1)\n",
            "Requirement already satisfied: future in /usr/local/lib/python3.6/dist-packages (from uncertainties>=3.0.1->lmfit) (0.16.0)\n"
          ],
          "name": "stdout"
        }
      ]
    },
    {
      "cell_type": "code",
      "metadata": {
        "colab": {
          "base_uri": "https://localhost:8080/"
        },
        "id": "L5uok8uZXXOk",
        "outputId": "0394d92b-6c31-4385-9dc6-a5ce4590f086"
      },
      "source": [
        "pip install git+https://github.com/madrury/py-glm.git"
      ],
      "execution_count": 14,
      "outputs": [
        {
          "output_type": "stream",
          "text": [
            "Collecting git+https://github.com/madrury/py-glm.git\n",
            "  Cloning https://github.com/madrury/py-glm.git to /tmp/pip-req-build-h6ju5p4d\n",
            "  Running command git clone -q https://github.com/madrury/py-glm.git /tmp/pip-req-build-h6ju5p4d\n",
            "Requirement already satisfied (use --upgrade to upgrade): py-glm==0.0.1 from git+https://github.com/madrury/py-glm.git in /usr/local/lib/python3.6/dist-packages\n",
            "Requirement already satisfied: numpy in /usr/local/lib/python3.6/dist-packages (from py-glm==0.0.1) (1.18.5)\n",
            "Requirement already satisfied: scipy in /usr/local/lib/python3.6/dist-packages (from py-glm==0.0.1) (1.4.1)\n",
            "Requirement already satisfied: patsy in /usr/local/lib/python3.6/dist-packages (from py-glm==0.0.1) (0.5.1)\n",
            "Requirement already satisfied: six in /usr/local/lib/python3.6/dist-packages (from patsy->py-glm==0.0.1) (1.15.0)\n",
            "Building wheels for collected packages: py-glm\n",
            "  Building wheel for py-glm (setup.py) ... \u001b[?25l\u001b[?25hdone\n",
            "  Created wheel for py-glm: filename=py_glm-0.0.1-cp36-none-any.whl size=16020 sha256=9c19097cd8f87e7cceec2af6fd7f3945f0c256d11cb0ec216b78d2f77b4f737d\n",
            "  Stored in directory: /tmp/pip-ephem-wheel-cache-d6f4svkt/wheels/ba/f8/77/41a1cc9756ab50434bbadffdf60a20742fc01bfd5ea3e056eb\n",
            "Successfully built py-glm\n"
          ],
          "name": "stdout"
        }
      ]
    },
    {
      "cell_type": "code",
      "metadata": {
        "colab": {
          "base_uri": "https://localhost:8080/",
          "height": 193
        },
        "id": "dcCBRoPIqTBZ",
        "outputId": "7e16e1a4-b184-4e06-c9e4-b31e6287ce3c"
      },
      "source": [
        "#%% IMS TRAINING -- MINI PROJECT\n",
        "#%% Exercise 9.2: Prediction of Enginer Health Using ARMA Model\n",
        "\n",
        "# import the required libraries\n",
        "import numpy as np\n",
        "import statistics\n",
        "import matplotlib.pyplot as plt\n",
        "from functions import forecastARMA, lr\n",
        "import warnings\n",
        "warnings.filterwarnings('ignore')\n",
        "\n",
        "#%% Initialization & data loading\n",
        "\n",
        "d=[]\n",
        "for line in open('train_FD001.txt'):\n",
        "    tmp = line.split(' ')\n",
        "    del tmp[-1]\n",
        "    del tmp[-1]\n",
        "    d.append(np.cast['float64'](tmp))\n",
        "RawData = np.array(d)\n",
        "\n",
        "#%% health assessment\n",
        "#extract early life and end life data\n",
        "# sensor data from column 6 to column 26\n",
        "\n",
        "EarlyLife = np.zeros((0,21))\n",
        "EndLife = np.zeros((0,21))\n",
        "for i in range(1,51): # use the first 50 units only\n",
        "    F = RawData[:,0]==i\n",
        "    UnitData = RawData[F,:]\n",
        "    EarlyLife = np.append(EarlyLife,UnitData[0:5,5:],axis=0)\n",
        "    EndLife = np.append(EndLife,UnitData[-5:,5:],axis=0)\n",
        "    \n",
        "\n",
        "PreSelect = np.array([1,2,3,7,8,10,12,13,16])\n",
        "normal = EarlyLife[:, PreSelect]\n",
        "faulty = EndLife[:, PreSelect]\n",
        "\n",
        "PCA_cutoff = 0.95\n",
        "\n",
        "# compute threshold of failure\n",
        "threshold = statistics.median(lr(normal,faulty,faulty,PCA_cutoff))\n",
        "\n",
        "#%% LR evaluation & prediction\n",
        "# predict at the 3/4 of life\n",
        "i=51\n",
        "F = RawData[:,0]==i\n",
        "UnitData = RawData[F,:]\n",
        "test_data = UnitData[:, PreSelect+5]\n",
        "\n",
        "cv = lr(normal,faulty,test_data,PCA_cutoff)\n",
        "current = round(len(cv)*3/4)\n",
        "\n",
        "cv1 = cv[0:current]\n",
        "cv2 = cv[current:]\n",
        "\n",
        "plt.subplot(2,1,1)\n",
        "plt.plot(cv1, 'b')\n",
        "plt.plot(np.array(range(current,len(cv))).T, cv2, 'g')\n",
        "plt.xlabel('cycle')\n",
        "plt.ylabel('CV')\n",
        "plt.title('Unit{p: 0.0f}'.format(p=i))\n",
        "\n"
      ],
      "execution_count": 15,
      "outputs": [
        {
          "output_type": "execute_result",
          "data": {
            "text/plain": [
              "Text(0.5, 1.0, 'Unit 51')"
            ]
          },
          "metadata": {
            "tags": []
          },
          "execution_count": 15
        },
        {
          "output_type": "display_data",
          "data": {
            "image/png": "[encoded data removed]",
            "text/plain": [
              "<Figure size 432x288 with 1 Axes>"
            ]
          },
          "metadata": {
            "tags": [],
            "needs_background": "light"
          }
        }
      ]
    },
    {
      "cell_type": "code",
      "metadata": {
        "id": "1WKD1LMnyeM6"
      },
      "source": [
        "k = len(cv2) + 50 # k step ahead\n",
        "\n",
        "training_data = np.array([1 - cv1]).T\n",
        "\n",
        "#Predicted the future health trend using the 'forecastARMA' function \n",
        "# for this dataset, set q=1\n",
        "# ================= Your Code Here ====================\n",
        "p=3\n",
        "q=1\n",
        "phi,theta,fcast,ssr = forecastARMA(training_data,p,q,ahead=k)"
      ],
      "execution_count": 16,
      "outputs": []
    },
    {
      "cell_type": "code",
      "metadata": {
        "colab": {
          "base_uri": "https://localhost:8080/",
          "height": 281
        },
        "id": "Tx59ap4kymPM",
        "outputId": "e80c2196-9c50-44aa-ada0-0c24b7a9075b"
      },
      "source": [
        "fcast = 1 - fcast\n",
        "\n",
        "plt.plot(np.array(range(current+1,current+k+1)).T, fcast, 'r')"
      ],
      "execution_count": 17,
      "outputs": [
        {
          "output_type": "execute_result",
          "data": {
            "text/plain": [
              "[<matplotlib.lines.Line2D at 0x7f2ec7934208>]"
            ]
          },
          "metadata": {
            "tags": []
          },
          "execution_count": 17
        },
        {
          "output_type": "display_data",
          "data": {
            "image/png": "[encoded data removed]",
            "text/plain": [
              "<Figure size 432x288 with 1 Axes>"
            ]
          },
          "metadata": {
            "tags": [],
            "needs_background": "light"
          }
        }
      ]
    },
    {
      "cell_type": "code",
      "metadata": {
        "colab": {
          "base_uri": "https://localhost:8080/",
          "height": 177
        },
        "id": "KejK-GcwyvhU",
        "outputId": "036d479e-86bf-40a0-a5a5-29218d5b1ac0"
      },
      "source": [
        "err1 = np.square(cv2 - fcast[0:len(cv2)]).mean(axis=0)\n",
        "# predict at the 7/8 of life\n",
        "current = round(len(cv)*7/8)\n",
        "\n",
        "cv1 = cv[0:current]\n",
        "cv2 = cv[current:]\n",
        "\n",
        "plt.subplot(2,1,2)\n",
        "plt.plot(cv1, 'b')\n",
        "plt.plot(np.array(range(current,len(cv))).T, cv2, 'g')\n",
        "plt.xlabel('cycle')\n",
        "plt.ylabel('CV')\n",
        "\n"
      ],
      "execution_count": 18,
      "outputs": [
        {
          "output_type": "execute_result",
          "data": {
            "text/plain": [
              "Text(0, 0.5, 'CV')"
            ]
          },
          "metadata": {
            "tags": []
          },
          "execution_count": 18
        },
        {
          "output_type": "display_data",
          "data": {
            "image/png": "[encoded data removed]",
            "text/plain": [
              "<Figure size 432x288 with 1 Axes>"
            ]
          },
          "metadata": {
            "tags": [],
            "needs_background": "light"
          }
        }
      ]
    },
    {
      "cell_type": "code",
      "metadata": {
        "colab": {
          "base_uri": "https://localhost:8080/",
          "height": 284
        },
        "id": "448CCB2-y3NJ",
        "outputId": "007c5620-0d32-4c71-fc49-7341146d16b8"
      },
      "source": [
        "k = len(cv2) + 50\n",
        "\n",
        "training_data = np.array([1 - cv1]).T\n",
        "\n",
        "#Predicted the future health trend using the 'forecastARMA' function \n",
        "# for this dataset, set q=1\n",
        "# ================= Your Code Here ====================\n",
        "p=3\n",
        "q=1\n",
        "phi,theta,fcast,ssr = forecastARMA(training_data,p,q,ahead=k)\n",
        "# =====================================================\n",
        "\n",
        "fcast = 1 - fcast\n",
        "\n",
        "plt.plot(np.array(range(current+1,current+k+1)).T, fcast, 'r')"
      ],
      "execution_count": 19,
      "outputs": [
        {
          "output_type": "execute_result",
          "data": {
            "text/plain": [
              "[<matplotlib.lines.Line2D at 0x7f2ec7842748>]"
            ]
          },
          "metadata": {
            "tags": []
          },
          "execution_count": 19
        },
        {
          "output_type": "display_data",
          "data": {
            "image/png": "[encoded data removed]",
            "text/plain": [
              "<Figure size 432x288 with 1 Axes>"
            ]
          },
          "metadata": {
            "tags": [],
            "needs_background": "light"
          }
        }
      ]
    },
    {
      "cell_type": "code",
      "metadata": {
        "id": "TXjVJAG7y69E"
      },
      "source": [
        "err2 = np.square(cv2 - fcast[0:len(cv2)]).mean(axis=0)\n",
        "\n",
        "MSE_str = {'predict_at_the_3_4_of_life':err1 ,'predict_at_the_7_8_of_life':err2}"
      ],
      "execution_count": 20,
      "outputs": []
    },
    {
      "cell_type": "code",
      "metadata": {
        "id": "Gx5f_-iSKefI"
      },
      "source": [
        ""
      ],
      "execution_count": 20,
      "outputs": []
    }
  ]
}